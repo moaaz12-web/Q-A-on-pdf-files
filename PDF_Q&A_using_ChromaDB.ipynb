{
  "cells": [
    {
      "cell_type": "markdown",
      "metadata": {
        "id": "view-in-github",
        "colab_type": "text"
      },
      "source": [
        "<a href=\"https://colab.research.google.com/github/moaaz12-web/Q-A-on-pdf-files/blob/main/PDF_Q%26A_using_ChromaDB.ipynb\" target=\"_parent\"><img src=\"https://colab.research.google.com/assets/colab-badge.svg\" alt=\"Open In Colab\"/></a>"
      ]
    },
    {
      "cell_type": "markdown",
      "source": [
        "# INSTALL LIBRARIES"
      ],
      "metadata": {
        "id": "W0TegGRj8qD3"
      }
    },
    {
      "cell_type": "code",
      "execution_count": null,
      "metadata": {
        "id": "77dDkL7mBiIB"
      },
      "outputs": [],
      "source": [
        "! pip install tiktoken\n",
        "! pip install chromadb\n",
        "! pip install unstructured[local-inference] -q\n",
        "! pip install openai langchain unstructured\n",
        "! pip install pdfminer.six\n"
      ]
    },
    {
      "cell_type": "markdown",
      "source": [
        "# IMPORT DEPENDENCIES"
      ],
      "metadata": {
        "id": "7mFwTlw982Ff"
      }
    },
    {
      "cell_type": "code",
      "execution_count": null,
      "metadata": {
        "id": "uVnPQ8sPWjc7"
      },
      "outputs": [],
      "source": [
        "from langchain.embeddings.openai import OpenAIEmbeddings\n",
        "from langchain.vectorstores import Chroma\n",
        "from langchain.text_splitter import CharacterTextSplitter, RecursiveCharacterTextSplitter\n",
        "from langchain import OpenAI, VectorDBQA\n",
        "from langchain.document_loaders import DirectoryLoader\n",
        "import magic\n",
        "import os\n",
        "import nltk"
      ]
    },
    {
      "cell_type": "markdown",
      "source": [
        "# LOAD AND READ PDF FILE"
      ],
      "metadata": {
        "id": "_dDOsVmd8vYh"
      }
    },
    {
      "cell_type": "code",
      "execution_count": null,
      "metadata": {
        "colab": {
          "base_uri": "https://localhost:8080/"
        },
        "id": "BjQrR5ocIifk",
        "outputId": "4fe534ba-7d51-4ac3-c95b-554af1e2ce04"
      },
      "outputs": [
        {
          "name": "stderr",
          "output_type": "stream",
          "text": [
            "[nltk_data] Downloading package punkt to /root/nltk_data...\n",
            "[nltk_data]   Unzipping tokenizers/punkt.zip.\n",
            "[nltk_data] Downloading package averaged_perceptron_tagger to\n",
            "[nltk_data]     /root/nltk_data...\n",
            "[nltk_data]   Unzipping taggers/averaged_perceptron_tagger.zip.\n",
            "WARNING:unstructured:detectron2 is not installed. Cannot use the hi_res partitioning strategy. Falling back to partitioning with the fast strategy.\n"
          ]
        }
      ],
      "source": [
        "from langchain.document_loaders import UnstructuredPDFLoader\n",
        "loader = UnstructuredPDFLoader(\"/content/FB-23-18 SPECIFICATIONS (1).pdf\")\n",
        "data = loader.load()"
      ]
    },
    {
      "cell_type": "code",
      "execution_count": null,
      "metadata": {
        "id": "hL5IVJNF3nyr"
      },
      "outputs": [],
      "source": []
    },
    {
      "cell_type": "code",
      "execution_count": null,
      "metadata": {
        "id": "k_00Q8ZS6Mbu"
      },
      "outputs": [],
      "source": [
        "loader = DirectoryLoader('/content/', glob='**/*.pdf')\n",
        "documents = loader.load()\n"
      ]
    },
    {
      "cell_type": "code",
      "execution_count": null,
      "metadata": {
        "id": "6vK7X0M4Abgx"
      },
      "outputs": [],
      "source": [
        "import os\n",
        "os.environ['OPENAI_API_KEY'] = 'openai key'"
      ]
    },
    {
      "cell_type": "code",
      "execution_count": null,
      "metadata": {
        "colab": {
          "base_uri": "https://localhost:8080/"
        },
        "id": "rvuMxXbQ4B0h",
        "outputId": "bbfd8195-c4cf-407e-8be6-a49f94727585"
      },
      "outputs": [
        {
          "name": "stdout",
          "output_type": "stream",
          "text": [
            "You have 3 document(s) in your data\n",
            "There are 909454 characters in your document\n"
          ]
        }
      ],
      "source": [
        "print (f'You have {len(documents)} document(s) in your data')\n",
        "print (f'There are {len(documents[0].page_content)} characters in your document')"
      ]
    },
    {
      "cell_type": "code",
      "execution_count": null,
      "metadata": {
        "colab": {
          "base_uri": "https://localhost:8080/"
        },
        "id": "X_YWeNlFH_67",
        "outputId": "0427691d-cf7f-469f-a90a-6998e1967652"
      },
      "outputs": [
        {
          "data": {
            "text/plain": [
              "Document(page_content='', metadata={'source': '/content/data/Suvira Jaiswal - The origin and development of Vaiṣṇavism _ Vaiṣṇavism from 200 BC to AD 500-Munshiram Manoharlal (1981).pdf'})"
            ]
          },
          "execution_count": 34,
          "metadata": {},
          "output_type": "execute_result"
        }
      ],
      "source": [
        "documents[1]"
      ]
    },
    {
      "cell_type": "code",
      "execution_count": null,
      "metadata": {
        "id": "L68Xy9HnCcRL"
      },
      "outputs": [],
      "source": []
    },
    {
      "cell_type": "markdown",
      "source": [
        "# CREATE EMBEDDINGS AND STORE IN CHROMA DB"
      ],
      "metadata": {
        "id": "x_mqmbKn89g2"
      }
    },
    {
      "cell_type": "code",
      "execution_count": null,
      "metadata": {
        "colab": {
          "base_uri": "https://localhost:8080/"
        },
        "id": "WorcmKkc4w4h",
        "outputId": "296c0fba-d856-481f-e170-c8c2814f2f88"
      },
      "outputs": [
        {
          "name": "stderr",
          "output_type": "stream",
          "text": [
            "WARNING:chromadb:Using embedded DuckDB without persistence: data will be transient\n"
          ]
        }
      ],
      "source": [
        "# text_splitter = CharacterTextSplitter(chunk_size=1000, chunk_overlap=0)\n",
        "text_splitter = RecursiveCharacterTextSplitter(chunk_size=2500, chunk_overlap=0) \n",
        "texts = text_splitter.split_documents(documents)\n",
        "# texts = text_splitter.split_documents(data)\n",
        "embeddings = OpenAIEmbeddings(openai_api_key=os.environ['OPENAI_API_KEY'])\n",
        "docsearch = Chroma.from_documents(texts, embeddings)"
      ]
    },
    {
      "cell_type": "markdown",
      "source": [
        "# ASK QUESTIONS FROM PDF"
      ],
      "metadata": {
        "id": "dGJ9o8K79FGv"
      }
    },
    {
      "cell_type": "code",
      "execution_count": null,
      "metadata": {
        "colab": {
          "base_uri": "https://localhost:8080/",
          "height": 142
        },
        "id": "voz33m4DA_tm",
        "outputId": "d7e5c2bb-d6ae-4ccb-a0ae-230a1ee65c79"
      },
      "outputs": [
        {
          "name": "stderr",
          "output_type": "stream",
          "text": [
            "/usr/local/lib/python3.10/dist-packages/langchain/chains/retrieval_qa/base.py:186: UserWarning: `VectorDBQA` is deprecated - please use `from langchain.chains import RetrievalQA`\n",
            "  warnings.warn(\n"
          ]
        },
        {
          "data": {
            "application/vnd.google.colaboratory.intrinsic+json": {
              "type": "string"
            },
            "text/plain": [
              "' The work under this contract is necessary for and incidental to the execution and completion of all work indicated and inferred in the Contract Documents for the roofing replacements at the locations indicated in the summary of work. This includes replacing covered walkway roof decking, flashing, roofing, and roof draining systems as well as installing new lighting and electrical systems, priming wood, and repairing steel substrates.'"
            ]
          },
          "execution_count": 7,
          "metadata": {},
          "output_type": "execute_result"
        }
      ],
      "source": [
        "qa = VectorDBQA.from_chain_type(llm=OpenAI(), chain_type=\"stuff\", vectorstore=docsearch)\n",
        "query = \"What is the most important part of the US constitution?\"\n",
        "qa.run(query)"
      ]
    },
    {
      "cell_type": "code",
      "execution_count": null,
      "metadata": {
        "colab": {
          "base_uri": "https://localhost:8080/",
          "height": 52
        },
        "id": "aP3IVyBTDV_S",
        "outputId": "e2d8289b-5d13-4eac-ead8-35757a9f0244"
      },
      "outputs": [
        {
          "data": {
            "application/vnd.google.colaboratory.intrinsic+json": {
              "type": "string"
            },
            "text/plain": [
              "' The table of contents for the project manual includes: Section 013110 - Schedules and Reports, Section 013300 - Submittals, and Section 017700 - Closeout Procedures.'"
            ]
          },
          "execution_count": 8,
          "metadata": {},
          "output_type": "execute_result"
        }
      ],
      "source": [
        "qa = VectorDBQA.from_chain_type(llm=OpenAI(), chain_type=\"stuff\", vectorstore=docsearch)\n",
        "query = \"Explain the most important part of the Indian constitution?\"\n",
        "qa.run(query)"
      ]
    },
    {
      "cell_type": "code",
      "execution_count": null,
      "metadata": {
        "colab": {
          "base_uri": "https://localhost:8080/",
          "height": 35
        },
        "id": "jR-Nn98QDV6A",
        "outputId": "9c867bef-c882-4a71-d3a2-09d6e3b1da03"
      },
      "outputs": [
        {
          "data": {
            "application/vnd.google.colaboratory.intrinsic+json": {
              "type": "string"
            },
            "text/plain": [
              "' Yes, there is an allowance of $25,000 for Las Posas Elementary School (PROJ#-FB-23-18).'"
            ]
          },
          "execution_count": 9,
          "metadata": {},
          "output_type": "execute_result"
        }
      ],
      "source": [
        "qa = VectorDBQA.from_chain_type(llm=OpenAI(), chain_type=\"stuff\", vectorstore=docsearch)\n",
        "query = \"Explain the ruling on minorities rights in the Usa constitution?\"\n",
        "qa.run(query)"
      ]
    },
    {
      "cell_type": "code",
      "execution_count": null,
      "metadata": {
        "colab": {
          "base_uri": "https://localhost:8080/",
          "height": 52
        },
        "id": "5LAywnPUB2xb",
        "outputId": "c0ea7569-2d81-4515-efc2-68956df30837"
      },
      "outputs": [
        {
          "data": {
            "application/vnd.google.colaboratory.intrinsic+json": {
              "type": "string"
            },
            "text/plain": [
              "' No, there are no liquid damages listed in Section 012500 \"Product Options and Substitutions\" of the Covered Walkways Rehabilitation project manual.'"
            ]
          },
          "execution_count": 10,
          "metadata": {},
          "output_type": "execute_result"
        }
      ],
      "source": [
        "qa = VectorDBQA.from_chain_type(llm=OpenAI(), chain_type=\"stuff\", vectorstore=docsearch, return_source_documents=True)\n",
        "query = \"EXPLAIN ANY CONTROVERSY IN THE USA CONSTITUTION\"\n",
        "result = qa({\"query\": query})\n",
        "result['result']\n"
      ]
    },
    {
      "cell_type": "code",
      "execution_count": null,
      "metadata": {
        "colab": {
          "base_uri": "https://localhost:8080/"
        },
        "id": "bAhpLn1RDYkd",
        "outputId": "6311e9b8-5664-48eb-a079-7b51b7516f8d"
      },
      "outputs": [
        {
          "name": "stdout",
          "output_type": "stream",
          "text": [
            "[Document(page_content='Provide adequate artificial lighting for all areas of work when natural light is not adequate for work, and provide foot-candles of lighting as specified within the Specifications.  In no case shall lighting be below thirty (30) foot-candles.\\n\\nRemove temporary wiring and equipment when no longer needed and dispose of equipment and wiring.\\n\\n3.4\\n\\nTEMPORARY WATER\\n\\nA.\\n\\nMake  arrangements  with  School  District  for  use  of  all  water  required  for  construction purposes.  The District shall pay for the cost of water used.  Furnish and install piping or hose to carry water for every point where needed on the project.  Use only potable water.\\n\\n3.5\\n\\nCONSTRUCTION EQUIPMENT\\n\\nA.\\n\\nB.\\n\\nC.\\n\\nErect,  equip,  and  maintain  construction  equipment  in  strict  accordance  with  applicable statutes, laws, ordinances, rules and regulations of authority having jurisdiction.\\n\\nProvide,  maintain  and  remove  upon  completion  of  the  Work  all  temporary  rigging, scaffolding,  hoisting  equipment,  rubbish  chutes,  ramps,  stairs,  runways,  platforms,  ladders, railings, and other temporary construction as required for all construction activities hereunder.\\n\\nProtect all existing pavements and plantings from damage due to trash bins, equipment and other temporary.  Any damaged pavement or plantings shall be replaced at the Contractor’s expense.\\n\\nCONSTRUCTION FACILITIES AND TEMPORARY CONTROLS\\n\\n015000\\n\\n\\n\\n2\\n\\nCovered Walkways Rehabilitation\\n\\nVarious Schools\\n\\nPleasant Valley School District\\n\\n3.6\\n\\nSTORAGE\\n\\nA.\\n\\nConfine operations of the Contractor, including storage of salvage and, recycled materials, to areas  approved.    Contractor  shall  be  liable  for  damage  caused  by  him  during  such  use  of property  of  the  District  or  other  parties.    Contractor  shall  save  the  District,  its  officers  and agents, and the Architect and his employees free and harmless from liability of any nature or kind arising from any use, trespass, or damage occasioned by his operations on premises of third persons.\\n\\nB.\\n\\nLocate storage and motor vehicle parking area as directed by the District’s Representative.\\n\\n3.7\\n\\nTEMPORARY JOB OFFICE: Not Required.\\n\\n3.8\\n\\nTEMPORARY TELEPHONE SERVICE\\n\\nA.\\n\\nUse by Contractor of cellular phone is acceptable.\\n\\n3.9\\n\\nPORTABLE FIRE EXTINGUISHERS: Not Required.\\n\\n3.10\\n\\nSHORING, ANCHORING AND BRACING\\n\\nA.', metadata={'source': '/content/FB-23-18 SPECIFICATIONS (1).pdf'}), Document(page_content='C. The schedule shall list the installed value of the component parts of the Work in sufficient detail to serve as a basis for computing values for progress payments during construction.  Follow the table of contents of this Project Manual as the format for listing component items.  Also, list any items in excess of $25,000.  For each major line item, list subvalues of major products or operations under the item, where applicable.\\n\\nD. No overhead and profit is to be loaded onto the costs of individual items.\\n\\nE. For items on which progress payments will be requested for stored materials, break down the value into (1) the cost of the materials, delivered and unloaded, with taxes paid, and (2) the total installed value.  It is within the District’s prerogative to pay for uninstalled materials on a case by case basis.\\n\\nF. Submit a subschedule for each separate phase of Work specified in Section 011000 “Summary of\\n\\nWork” at a minimum plus any items of work exceeding $25,000.\\n\\nSCHEDULES AND REPORTS\\n\\n013110\\n\\n\\n\\n2\\n\\nCovered Walkways Rehabilitation\\n\\nVarious Schools\\n\\nPleasant Valley School District\\n\\nG. The sum of all values listed in the schedule shall equal the total Contract sum.\\n\\n1.4\\n\\nPERIODIC ESTIMATE FOR PARTIAL PAYMENT\\n\\nA. Submit seven (3) original copies of each periodic pay request to the District’s Inspector and Architect within the time limits set out in the General Conditions.  Prepare the application on forms supplied  by  the  District.    Complete  every  entry  provided  for  on  the  form  including  signature  by authorized  officer.    Incomplete  and  or  inaccurate  applications  will  be  returned  without  action. Entries shall match current data shown on the schedule of values and progress schedule.  Listing shall  include  amounts  of  change  orders  issued  prior  to  last  day  of  the  period  of  construction covered by the application.  Pay request shall be notarized.\\n\\nPART 2 PRODUCTS\\n\\n(Not Applicable)\\n\\nPART 3 EXECUTION\\n\\n(Not Applicable)\\n\\nEnd of Section\\n\\nSCHEDULES AND REPORTS\\n\\n013110\\n\\n\\n\\n3\\n\\nCovered Walkways Rehabilitation\\n\\nVarious Schools\\n\\nPleasant Valley School District\\n\\nTHIS PAGE INTENTIONALLY LEFT BLANK.\\n\\nSCHEDULES AND REPORTS\\n\\n013110\\n\\n\\n\\n4\\n\\nCovered Walkways Rehabilitation\\n\\nVarious Schools\\n\\nPleasant Valley School District\\n\\nSECTION 013300\\n\\n\\n\\nSUBMITTALS\\n\\nPART 1\\n\\n\\n\\nGENERAL\\n\\n1.1\\n\\nSUMMARY :', metadata={'source': '/content/FB-23-18 SPECIFICATIONS (1).pdf'}), Document(page_content=\"On time and material Change Orders, changes in Contract Sum and Contract Time will be determined by the District and Architect from the Contractor's data.\\n\\n1.5\\n\\nCORRELATION OF CONTRACTOR SUBMITTALS:\\n\\nA.\\n\\nB.\\n\\nPromptly revise the Schedule of Values, and Application for Payment forms to record each authorized Change Order as a separate line item and adjust the Contract Sum as shown on the Change Order.\\n\\nPromptly revise Progress Schedules to reflect changes in Contract Time, revise subschedules to adjust times for other items of Work affected by the change and resubmit.\\n\\nC.\\n\\nPromptly enter changes on the Project Record Documents.\\n\\n2\\n\\n3\\n\\nPRODUCTS  (Not Applicable)\\n\\nEXECUTION  (Not Applicable)\\n\\nMODIFICATION PROCEDURES\\n\\n012600\\n\\n\\n\\n2\\n\\nCovered Walkways Rehabilitation\\n\\nVarious Schools\\n\\nPleasant Valley School District\\n\\nEND OF SECTION\\n\\nMODIFICATION PROCEDURES\\n\\n012600\\n\\n\\n\\n3\\n\\nCovered Walkways Rehabilitation\\n\\nVarious Schools\\n\\nPleasant Valley School District\\n\\nSECTION 013100\\n\\n\\n\\nPROJECT MEETINGS\\n\\nPART 1 GENERAL\\n\\n1.1\\n\\nSUMMARY:\\n\\nA.\\n\\nSection  Includes: conferences, specially called meetings, and post-construction meeting.\\n\\nRequirements  for  preconstruction  meeting,  progress  meetings,  preinstallation\\n\\n1.2\\n\\nCONTRACTOR'S RESPONSIBILITIES:\\n\\nA.\\n\\nPrepare  agenda  for  progress  meeting  and  for  preinstallation  conferences,  notify  participants,  and  make physical arrangements for all meetings.\\n\\n1.3\\n\\nPRECONSTRUCTION MEETING:\\n\\nA.\\n\\nB.\\n\\nAfter issuance of notice to proceed, a preconstruction meeting will be held at a time and location designated by the District.\\n\\nAttendance:  The meeting shall be chaired by the Architect and attended by the District's Inspector, District Representative, and his professional consultants as needed, the Contractor and his superintendent, all major subcontractors as requested to be present and other persons designated by the District.\\n\\nC.\\n\\nAgenda:  The agenda for the meeting shall include the following items as a minimum.\\n\\n1.\\n\\n2.\\n\\n3.\\n\\n4.\\n\\n5.\\n\\n6.\\n\\n7.\\n\\n8.\\n\\n9.\\n\\nDiscussion of the construction schedule including critical construction sequencing.\\n\\nDesignation  of  persons  authorized  to  represent  and  sign  documents  for  the  District,  Architect  and Contractor, with examples of official signature of each.\\n\\nProcedures  and  forms  for  processing  submittals,  field  decisions,  proposal  requests,  change  orders, applications  for  payment,  revised  construction  schedules,  and  establishment  of  proper  lines  of communication.\", metadata={'source': '/content/FB-23-18 SPECIFICATIONS (1).pdf'}), Document(page_content=\"Various Schools\\n\\nPleasant Valley School District\\n\\nTHIS PAGE INTENTIONALLY LEFT BLANK.\\n\\nSUMMARY OF WORK\\n\\n011000\\n\\n\\n\\n4\\n\\nCovered Walkways Rehabilitation\\n\\nVarious Schools\\n\\nPleasant Valley School District\\n\\nSECTION 012100\\n\\n\\n\\nALLOWANCES\\n\\nPART 1\\n\\n\\n\\nGENERAL\\n\\n1.1\\n\\nSUMMARY\\n\\nA.  Section Includes:  Allowances which the contractor shall provide for designated\\n\\nconstruction activities in the work and in their bid.\\n\\nB.  Related Documents\\n\\n1.\\n\\nSection 012600:  Modification procedures\\n\\n1.2\\n\\nDESCRIPTION OF REQUIREMENTS\\n\\nA.  Definitions and Explanations:  Certain requirements of the construction related to each allowance are indicated and specified.  The allowance has been established instead of additional requirements for that construction, and further requirements thereof will be issued by Change Order.\\n\\nB.  Contingency Allowance:  Contingency allowance shall be used only as directed for\\n\\nDistrict's purposes, and only by change orders which designate amounts to be charged to contingency allowance.  Contractor's related costs are not included in the Contract sum (other than allowance itself) for construction so ordered to be charged to contingency allowance.  The change orders will include costs and reasonable overhead/profit margins. At time of project closeout, unused amounts remaining in contingency allowance shall be credited to the district by change order.\\n\\nPART 2\\n\\n\\n\\nPRODUCTS (Not Applicable)\\n\\nPART 3\\n\\n\\n\\nEXECUTION\\n\\n3.1\\n\\nSCHEDULE OF ALLOWANCES\\n\\nA.  Allowance No. 1: The Contractor shall include in the bid an allowance listed below for each specific project location for miscellaneous unforeseen conditions, including, but not limited to the patching and repair of adjacent finishes including wood structural members, wood trim and stucco. 1.  Las Posas Elementary School (PROJ#-FB-23-18)  Allowance: $25,000\\n\\nEnd of Section\\n\\nALLOWANCES\\n\\n012100\\n\\n\\n\\n1\\n\\nCovered Walkways Rehabilitation\\n\\nVarious Schools\\n\\nPleasant Valley School District\\n\\nTHIS PAGE INTENTIONALLY LEFT BLANK.\\n\\nALLOWANCES\\n\\n012100\\n\\n\\n\\n2\\n\\nCovered Walkways Rehabilitation\\n\\nVarious Schools\\n\\nPleasant Valley School District\\n\\nSECTION 012500\\n\\n\\n\\nPRODUCT OPTIONS AND SUBSTITUTIONS\\n\\n1\\n\\nGENERAL\\n\\n1.1\\n\\nSUMMARY\\n\\nA.\\n\\nSection Includes:  Procedures for submittal of requests for substitution for materials.\\n\\n1.2\\n\\nGENERAL REQUIREMENTS\", metadata={'source': '/content/FB-23-18 SPECIFICATIONS (1).pdf'})]\n"
          ]
        }
      ],
      "source": [
        "print(result['source_documents'])"
      ]
    },
    {
      "cell_type": "code",
      "source": [],
      "metadata": {
        "id": "_rwpsM_6BWGw"
      },
      "execution_count": null,
      "outputs": []
    }
  ],
  "metadata": {
    "colab": {
      "provenance": [],
      "authorship_tag": "ABX9TyNpUx5PoYiUawoc0HkHg+oO",
      "include_colab_link": true
    },
    "gpuClass": "standard",
    "kernelspec": {
      "display_name": "Python 3",
      "name": "python3"
    },
    "language_info": {
      "name": "python"
    },
    "accelerator": "GPU"
  },
  "nbformat": 4,
  "nbformat_minor": 0
}