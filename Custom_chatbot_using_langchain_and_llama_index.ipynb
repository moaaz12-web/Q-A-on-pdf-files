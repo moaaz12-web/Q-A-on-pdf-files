{
  "nbformat": 4,
  "nbformat_minor": 0,
  "metadata": {
    "colab": {
      "provenance": [],
      "authorship_tag": "ABX9TyNeUa+NsFddeECibSMaGBvE",
      "include_colab_link": true
    },
    "kernelspec": {
      "name": "python3",
      "display_name": "Python 3"
    },
    "language_info": {
      "name": "python"
    },
    "gpuClass": "standard"
  },
  "cells": [
    {
      "cell_type": "markdown",
      "metadata": {
        "id": "view-in-github",
        "colab_type": "text"
      },
      "source": [
        "<a href=\"https://colab.research.google.com/github/moaaz12-web/Q-A-on-pdf-files/blob/main/Custom_chatbot_using_langchain_and_llama_index.ipynb\" target=\"_parent\"><img src=\"https://colab.research.google.com/assets/colab-badge.svg\" alt=\"Open In Colab\"/></a>"
      ]
    },
    {
      "cell_type": "markdown",
      "source": [
        "# INSTALL DEPENDENCIES"
      ],
      "metadata": {
        "id": "GFyCUDfn8fqL"
      }
    },
    {
      "cell_type": "code",
      "execution_count": null,
      "metadata": {
        "id": "H1wxGvXL9CwT"
      },
      "outputs": [],
      "source": [
        "!pip install llama-index==0.5.0\n",
        "!pip install langchain\n",
        "! pip install pypdf2"
      ]
    },
    {
      "cell_type": "markdown",
      "source": [
        "# CONVERT PDF TO TEXT FILE"
      ],
      "metadata": {
        "id": "QJoHfCs78PFB"
      }
    },
    {
      "cell_type": "code",
      "source": [
        "import PyPDF2\n",
        "import json\n",
        "\n",
        "# Open the PDF file\n",
        "pdf_file = open('/content/FB-23-18 SPECIFICATIONS.pdf', 'rb')\n",
        "\n",
        "# Create a PDF reader object\n",
        "pdf_reader = PyPDF2.PdfReader(pdf_file)\n",
        "\n",
        "# Create an empty dictionary to store the PDF data\n",
        "pdf_data = {}\n",
        "\n",
        "# Loop over each page in the PDF file\n",
        "for page_num in range(len(reader.pages)):\n",
        "  # Get the current page object\n",
        "  page = pdf_reader.pages[page_num]\n",
        "\n",
        "  # Get the text content of the page\n",
        "  page_text = page.extract_text()\n",
        "\n",
        "  # Add the page content to the dictionary\n",
        "  pdf_data[f'page_{page_num+1}'] = page_text\n",
        "\n",
        "  # Convert the dictionary to JSON format\n",
        "  json_data = json.dumps(pdf_data)\n",
        "\n",
        "# Print the JSON data\n",
        "print(json_data)"
      ],
      "metadata": {
        "id": "nacQwfCNUbCH"
      },
      "execution_count": null,
      "outputs": []
    },
    {
      "cell_type": "code",
      "source": [
        "# import os module\n",
        "import os\n",
        "\n",
        "# create a new file\n",
        "filename = \"pdf_data.txt\"\n",
        "file = open(filename, \"w\")\n",
        "\n",
        "# write content to the file\n",
        "for i in range(1, len(pdf_data.keys())+1):\n",
        "    file.write(pdf_data[f\"page_{i}\"])\n",
        "    file.write(\"\\n\") # add a newline character after each page\n",
        "\n",
        "# close the file\n",
        "file.close()\n",
        "\n",
        "# print a message to confirm the file creation\n",
        "print(f\"{filename} has been created!\")\n"
      ],
      "metadata": {
        "colab": {
          "base_uri": "https://localhost:8080/"
        },
        "id": "785AJRPJUa6P",
        "outputId": "3a237ccd-59e6-4ce8-ea0a-cb564b26ee9a"
      },
      "execution_count": null,
      "outputs": [
        {
          "output_type": "stream",
          "name": "stdout",
          "text": [
            "pdf_data.txt has been created!\n"
          ]
        }
      ]
    },
    {
      "cell_type": "code",
      "source": [
        "\n",
        "from langchain import OpenAI\n",
        "from llama_index import SimpleDirectoryReader, LangchainEmbedding, GPTListIndex,GPTSimpleVectorIndex, PromptHelper\n",
        "from llama_index import LLMPredictor, ServiceContext\n",
        "import sys\n",
        "import os"
      ],
      "metadata": {
        "id": "XOmR6Hpc9SgZ"
      },
      "execution_count": null,
      "outputs": []
    },
    {
      "cell_type": "code",
      "source": [
        "os.environ[\"OPENAI_API_KEY\"] = 'OPENAI_API_KEY'"
      ],
      "metadata": {
        "id": "J-vvNU94-sqV"
      },
      "execution_count": null,
      "outputs": []
    },
    {
      "cell_type": "markdown",
      "source": [
        "# CREATE VECTOR INDEX OF TEXT FILE"
      ],
      "metadata": {
        "id": "w_SS6pVs8V_d"
      }
    },
    {
      "cell_type": "code",
      "source": [
        "def construct_index(directory_path):\n",
        "  # set maximum input size\n",
        "  max_input_size = 4096\n",
        "  # set number of output tokens\n",
        "  num_outputs = 256\n",
        "  # set maximum chunk overlap\n",
        "  max_chunk_overlap = 20\n",
        "  # set chunk size limit\n",
        "  chunk_size_limit = 600\n",
        "\n",
        "  prompt_helper = PromptHelper(max_input_size, num_outputs, max_chunk_overlap, chunk_size_limit=chunk_size_limit)\n",
        "\n",
        "  # define LLM\n",
        "  llm_predictor = LLMPredictor(llm=OpenAI(temperature=0, model_name=\"text-davinci-003\", max_tokens=num_outputs))\n",
        "  \n",
        "  documents = SimpleDirectoryReader(directory_path).load_data()\n",
        "  \n",
        "  service_context = ServiceContext.from_defaults(llm_predictor=llm_predictor)\n",
        "  index = GPTSimpleVectorIndex.from_documents(documents, service_context=service_context)\n",
        "  \n",
        "  index.save_to_disk('index.json')\n",
        "  \n",
        "  return index"
      ],
      "metadata": {
        "id": "IeTJQE3W9jkH"
      },
      "execution_count": null,
      "outputs": []
    },
    {
      "cell_type": "code",
      "source": [
        "index = construct_index(\"/content\")"
      ],
      "metadata": {
        "id": "t4r_wHqh9qDQ"
      },
      "execution_count": null,
      "outputs": []
    },
    {
      "cell_type": "markdown",
      "source": [
        "# ASK QUESTIONS FROM YOUR PDF"
      ],
      "metadata": {
        "id": "4-Z5f_QF8bKG"
      }
    },
    {
      "cell_type": "code",
      "source": [
        "question=\"\"\"\n",
        "Explain Galvanized Ferrous Metal Substrates\n",
        "\"\"\""
      ],
      "metadata": {
        "id": "XZIf68p9ApmN"
      },
      "execution_count": null,
      "outputs": []
    },
    {
      "cell_type": "code",
      "source": [
        "response = index.query(question)"
      ],
      "metadata": {
        "id": "huwfhmAa9tiI"
      },
      "execution_count": null,
      "outputs": []
    },
    {
      "cell_type": "code",
      "source": [
        "response.response"
      ],
      "metadata": {
        "id": "RdtmjDDP-XCJ",
        "colab": {
          "base_uri": "https://localhost:8080/",
          "height": 105
        },
        "outputId": "fd8ce43e-5c9e-4731-df53-c751f25e33ef"
      },
      "execution_count": null,
      "outputs": [
        {
          "output_type": "execute_result",
          "data": {
            "text/plain": [
              "'\\n\\nGalvanized ferrous metal substrates are metal surfaces that have been treated with a protective coating of zinc to prevent corrosion. The coating is applied by dipping the metal in a bath of molten zinc or by electroplating. The coating provides a barrier between the metal and the environment, protecting it from rust and corrosion. The coating also provides a decorative finish that can be used to enhance the appearance of the metal. It is important to ensure that the surface alkalinity is within the range recommended by the paint manufacturer and that the moisture content of the substrate is not greater than the maximum values recommended for the specific substrate material. The surface should also be cleaned with a detergent solution and a bristle brush to ensure that all soil is thoroughly dislodged and can be removed by rinsing.'"
            ],
            "application/vnd.google.colaboratory.intrinsic+json": {
              "type": "string"
            }
          },
          "metadata": {},
          "execution_count": 40
        }
      ]
    },
    {
      "cell_type": "code",
      "source": [],
      "metadata": {
        "id": "0DGM5UsWLYKw"
      },
      "execution_count": null,
      "outputs": []
    }
  ]
}